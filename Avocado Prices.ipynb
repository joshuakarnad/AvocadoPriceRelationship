{
 "cells": [
  {
   "cell_type": "code",
   "execution_count": 1,
   "metadata": {
    "collapsed": true
   },
   "outputs": [],
   "source": [
    "import pandas as pd\n",
    "import numpy as np\n",
    "import matplotlib.pyplot as plt\n",
    "%matplotlib inline"
   ]
  },
  {
   "cell_type": "code",
   "execution_count": 2,
   "metadata": {},
   "outputs": [
    {
     "data": {
      "text/html": [
       "<div>\n",
       "<style>\n",
       "    .dataframe thead tr:only-child th {\n",
       "        text-align: right;\n",
       "    }\n",
       "\n",
       "    .dataframe thead th {\n",
       "        text-align: left;\n",
       "    }\n",
       "\n",
       "    .dataframe tbody tr th {\n",
       "        vertical-align: top;\n",
       "    }\n",
       "</style>\n",
       "<table border=\"1\" class=\"dataframe\">\n",
       "  <thead>\n",
       "    <tr style=\"text-align: right;\">\n",
       "      <th></th>\n",
       "      <th>Unnamed: 0</th>\n",
       "      <th>Date</th>\n",
       "      <th>AveragePrice</th>\n",
       "      <th>Total Volume</th>\n",
       "      <th>4046</th>\n",
       "      <th>4225</th>\n",
       "      <th>4770</th>\n",
       "      <th>Total Bags</th>\n",
       "      <th>Small Bags</th>\n",
       "      <th>Large Bags</th>\n",
       "      <th>XLarge Bags</th>\n",
       "      <th>type</th>\n",
       "      <th>year</th>\n",
       "      <th>region</th>\n",
       "    </tr>\n",
       "  </thead>\n",
       "  <tbody>\n",
       "    <tr>\n",
       "      <th>11361</th>\n",
       "      <td>51</td>\n",
       "      <td>2015-01-04</td>\n",
       "      <td>1.18</td>\n",
       "      <td>22630.58</td>\n",
       "      <td>13175.57</td>\n",
       "      <td>9028.34</td>\n",
       "      <td>0.0</td>\n",
       "      <td>426.67</td>\n",
       "      <td>426.67</td>\n",
       "      <td>0.0</td>\n",
       "      <td>0.0</td>\n",
       "      <td>organic</td>\n",
       "      <td>2015</td>\n",
       "      <td>SanFrancisco</td>\n",
       "    </tr>\n",
       "    <tr>\n",
       "      <th>11360</th>\n",
       "      <td>50</td>\n",
       "      <td>2015-01-11</td>\n",
       "      <td>1.12</td>\n",
       "      <td>29676.78</td>\n",
       "      <td>17907.49</td>\n",
       "      <td>11586.46</td>\n",
       "      <td>0.0</td>\n",
       "      <td>182.83</td>\n",
       "      <td>182.83</td>\n",
       "      <td>0.0</td>\n",
       "      <td>0.0</td>\n",
       "      <td>organic</td>\n",
       "      <td>2015</td>\n",
       "      <td>SanFrancisco</td>\n",
       "    </tr>\n",
       "    <tr>\n",
       "      <th>11359</th>\n",
       "      <td>49</td>\n",
       "      <td>2015-01-18</td>\n",
       "      <td>1.27</td>\n",
       "      <td>41482.48</td>\n",
       "      <td>26336.41</td>\n",
       "      <td>14789.40</td>\n",
       "      <td>0.0</td>\n",
       "      <td>356.67</td>\n",
       "      <td>356.67</td>\n",
       "      <td>0.0</td>\n",
       "      <td>0.0</td>\n",
       "      <td>organic</td>\n",
       "      <td>2015</td>\n",
       "      <td>SanFrancisco</td>\n",
       "    </tr>\n",
       "    <tr>\n",
       "      <th>11358</th>\n",
       "      <td>48</td>\n",
       "      <td>2015-01-25</td>\n",
       "      <td>1.34</td>\n",
       "      <td>27146.81</td>\n",
       "      <td>17038.27</td>\n",
       "      <td>9879.87</td>\n",
       "      <td>0.0</td>\n",
       "      <td>228.67</td>\n",
       "      <td>228.67</td>\n",
       "      <td>0.0</td>\n",
       "      <td>0.0</td>\n",
       "      <td>organic</td>\n",
       "      <td>2015</td>\n",
       "      <td>SanFrancisco</td>\n",
       "    </tr>\n",
       "    <tr>\n",
       "      <th>11357</th>\n",
       "      <td>47</td>\n",
       "      <td>2015-02-01</td>\n",
       "      <td>1.06</td>\n",
       "      <td>57802.02</td>\n",
       "      <td>38413.44</td>\n",
       "      <td>19160.87</td>\n",
       "      <td>0.0</td>\n",
       "      <td>227.71</td>\n",
       "      <td>227.71</td>\n",
       "      <td>0.0</td>\n",
       "      <td>0.0</td>\n",
       "      <td>organic</td>\n",
       "      <td>2015</td>\n",
       "      <td>SanFrancisco</td>\n",
       "    </tr>\n",
       "  </tbody>\n",
       "</table>\n",
       "</div>"
      ],
      "text/plain": [
       "       Unnamed: 0        Date  AveragePrice  Total Volume      4046      4225  \\\n",
       "11361          51  2015-01-04          1.18      22630.58  13175.57   9028.34   \n",
       "11360          50  2015-01-11          1.12      29676.78  17907.49  11586.46   \n",
       "11359          49  2015-01-18          1.27      41482.48  26336.41  14789.40   \n",
       "11358          48  2015-01-25          1.34      27146.81  17038.27   9879.87   \n",
       "11357          47  2015-02-01          1.06      57802.02  38413.44  19160.87   \n",
       "\n",
       "       4770  Total Bags  Small Bags  Large Bags  XLarge Bags     type  year  \\\n",
       "11361   0.0      426.67      426.67         0.0          0.0  organic  2015   \n",
       "11360   0.0      182.83      182.83         0.0          0.0  organic  2015   \n",
       "11359   0.0      356.67      356.67         0.0          0.0  organic  2015   \n",
       "11358   0.0      228.67      228.67         0.0          0.0  organic  2015   \n",
       "11357   0.0      227.71      227.71         0.0          0.0  organic  2015   \n",
       "\n",
       "             region  \n",
       "11361  SanFrancisco  \n",
       "11360  SanFrancisco  \n",
       "11359  SanFrancisco  \n",
       "11358  SanFrancisco  \n",
       "11357  SanFrancisco  "
      ]
     },
     "execution_count": 2,
     "metadata": {},
     "output_type": "execute_result"
    }
   ],
   "source": [
    "df = pd.read_csv('/Users/joshuarkarnad/Desktop/Thinkful/Economics/Data/avocado.csv')\n",
    "df = df[df['region'] == 'SanFrancisco']\n",
    "df = df.sort_values(by ='Date')\n",
    "df = df[df['type'] == 'organic']\n",
    "df.head()"
   ]
  },
  {
   "cell_type": "code",
   "execution_count": 3,
   "metadata": {
    "collapsed": true
   },
   "outputs": [],
   "source": [
    "df['TotalVolume'] = df['Total Volume']\n",
    "df = df[['Date', 'AveragePrice', 'TotalVolume']]"
   ]
  },
  {
   "cell_type": "code",
   "execution_count": 4,
   "metadata": {},
   "outputs": [
    {
     "data": {
      "text/html": [
       "<div>\n",
       "<style>\n",
       "    .dataframe thead tr:only-child th {\n",
       "        text-align: right;\n",
       "    }\n",
       "\n",
       "    .dataframe thead th {\n",
       "        text-align: left;\n",
       "    }\n",
       "\n",
       "    .dataframe tbody tr th {\n",
       "        vertical-align: top;\n",
       "    }\n",
       "</style>\n",
       "<table border=\"1\" class=\"dataframe\">\n",
       "  <thead>\n",
       "    <tr style=\"text-align: right;\">\n",
       "      <th></th>\n",
       "      <th>Date</th>\n",
       "      <th>AveragePrice</th>\n",
       "      <th>TotalVolume</th>\n",
       "      <th>TotalVolumeChg</th>\n",
       "      <th>PriceChg</th>\n",
       "    </tr>\n",
       "  </thead>\n",
       "  <tbody>\n",
       "    <tr>\n",
       "      <th>11361</th>\n",
       "      <td>2015-01-04</td>\n",
       "      <td>1.18</td>\n",
       "      <td>22630.58</td>\n",
       "      <td>NaN</td>\n",
       "      <td>NaN</td>\n",
       "    </tr>\n",
       "    <tr>\n",
       "      <th>11360</th>\n",
       "      <td>2015-01-11</td>\n",
       "      <td>1.12</td>\n",
       "      <td>29676.78</td>\n",
       "      <td>7046.20</td>\n",
       "      <td>-0.06</td>\n",
       "    </tr>\n",
       "    <tr>\n",
       "      <th>11359</th>\n",
       "      <td>2015-01-18</td>\n",
       "      <td>1.27</td>\n",
       "      <td>41482.48</td>\n",
       "      <td>11805.70</td>\n",
       "      <td>0.15</td>\n",
       "    </tr>\n",
       "    <tr>\n",
       "      <th>11358</th>\n",
       "      <td>2015-01-25</td>\n",
       "      <td>1.34</td>\n",
       "      <td>27146.81</td>\n",
       "      <td>-14335.67</td>\n",
       "      <td>0.07</td>\n",
       "    </tr>\n",
       "    <tr>\n",
       "      <th>11357</th>\n",
       "      <td>2015-02-01</td>\n",
       "      <td>1.06</td>\n",
       "      <td>57802.02</td>\n",
       "      <td>30655.21</td>\n",
       "      <td>-0.28</td>\n",
       "    </tr>\n",
       "  </tbody>\n",
       "</table>\n",
       "</div>"
      ],
      "text/plain": [
       "             Date  AveragePrice  TotalVolume  TotalVolumeChg  PriceChg\n",
       "11361  2015-01-04          1.18     22630.58             NaN       NaN\n",
       "11360  2015-01-11          1.12     29676.78         7046.20     -0.06\n",
       "11359  2015-01-18          1.27     41482.48        11805.70      0.15\n",
       "11358  2015-01-25          1.34     27146.81       -14335.67      0.07\n",
       "11357  2015-02-01          1.06     57802.02        30655.21     -0.28"
      ]
     },
     "execution_count": 4,
     "metadata": {},
     "output_type": "execute_result"
    }
   ],
   "source": [
    "df['TotalVolumeChg'] =  df['TotalVolume'].diff()\n",
    "df['PriceChg'] = df['AveragePrice'].diff()\n",
    "df.head()"
   ]
  },
  {
   "cell_type": "code",
   "execution_count": 5,
   "metadata": {
    "collapsed": true
   },
   "outputs": [],
   "source": [
    "df['VolumePctChg'] = df['TotalVolumeChg'] / df['TotalVolume']\n",
    "df['PricePctChg'] = df['PriceChg'] / df['AveragePrice'] "
   ]
  },
  {
   "cell_type": "code",
   "execution_count": 6,
   "metadata": {},
   "outputs": [
    {
     "data": {
      "text/plain": [
       "Date              0\n",
       "AveragePrice      0\n",
       "TotalVolume       0\n",
       "TotalVolumeChg    0\n",
       "PriceChg          0\n",
       "VolumePctChg      0\n",
       "PricePctChg       0\n",
       "dtype: int64"
      ]
     },
     "execution_count": 6,
     "metadata": {},
     "output_type": "execute_result"
    }
   ],
   "source": [
    "df = df.dropna()\n",
    "df.isnull().sum()"
   ]
  },
  {
   "cell_type": "code",
   "execution_count": 7,
   "metadata": {},
   "outputs": [
    {
     "name": "stdout",
     "output_type": "stream",
     "text": [
      "coefficients: [-0.26562135]\n",
      "intercept: -0.0163955297285\n",
      "score: 0.179452013198\n"
     ]
    }
   ],
   "source": [
    "from sklearn.linear_model import TheilSenRegressor, RANSACRegressor, HuberRegressor, LinearRegression\n",
    "x = df['VolumePctChg']\n",
    "y = df['PricePctChg']\n",
    "x = x.values.reshape(-1,1)\n",
    "linear = LinearRegression()\n",
    "linear.fit(x,y)\n",
    "print('coefficients: ' + str(linear.coef_))\n",
    "print('intercept: ' + str(linear.intercept_))\n",
    "print('score: ' + str(linear.score(x,y)))"
   ]
  },
  {
   "cell_type": "code",
   "execution_count": 8,
   "metadata": {},
   "outputs": [
    {
     "data": {
      "image/png": "[encoded data removed]",
      "text/plain": [
       "<matplotlib.figure.Figure at 0x10f7fc0f0>"
      ]
     },
     "metadata": {},
     "output_type": "display_data"
    }
   ],
   "source": [
    "df[['PricePctChg', 'VolumePctChg']].plot()\n",
    "plt.show()"
   ]
  },
  {
   "cell_type": "code",
   "execution_count": 9,
   "metadata": {},
   "outputs": [
    {
     "data": {
      "image/png": "[encoded data removed]",
      "text/plain": [
       "<matplotlib.figure.Figure at 0x1a19e57908>"
      ]
     },
     "metadata": {},
     "output_type": "display_data"
    }
   ],
   "source": [
    "plt.scatter(y = df.PricePctChg, x = df.VolumePctChg)\n",
    "plt.title('Avocado Price Pct Change vs Volume Pct Change')\n",
    "plt.xlabel('Volume Change')\n",
    "plt.ylabel('Price Change')\n",
    "plt.show()"
   ]
  },
  {
   "cell_type": "code",
   "execution_count": 10,
   "metadata": {},
   "outputs": [
    {
     "data": {
      "image/png": "[encoded data removed]",
      "text/plain": [
       "<matplotlib.figure.Figure at 0x1a19fdd4e0>"
      ]
     },
     "metadata": {},
     "output_type": "display_data"
    }
   ],
   "source": [
    "plt.boxplot([ df.PricePctChg, df.VolumePctChg])\n",
    "plt.xticks([1,2], ['Price','Volume'])\n",
    "plt.show()"
   ]
  },
  {
   "cell_type": "code",
   "execution_count": 11,
   "metadata": {},
   "outputs": [
    {
     "name": "stdout",
     "output_type": "stream",
     "text": [
      "coefficients: [-0.17723627]\n",
      "intercept: -0.00192358713181\n",
      "score: 0.153771361548\n"
     ]
    }
   ],
   "source": [
    "hr = HuberRegressor()\n",
    "hr.fit(x,y)\n",
    "print('coefficients: ' + str(hr.coef_))\n",
    "print('intercept: ' + str(hr.intercept_))\n",
    "print('score: ' + str(hr.score(x,y)))"
   ]
  },
  {
   "cell_type": "code",
   "execution_count": 12,
   "metadata": {},
   "outputs": [
    {
     "name": "stdout",
     "output_type": "stream",
     "text": [
      "coefficients: [-0.17723627]\n",
      "intercept: -0.00192358713181\n",
      "score: 0.153771361548\n"
     ]
    }
   ],
   "source": [
    "ransac = RANSACRegressor()\n",
    "ransac.fit(x,y)\n",
    "print('coefficients: ' + str(hr.coef_))\n",
    "print('intercept: ' + str(hr.intercept_))\n",
    "print('score: ' + str(hr.score(x,y)))"
   ]
  },
  {
   "cell_type": "code",
   "execution_count": 13,
   "metadata": {},
   "outputs": [
    {
     "name": "stdout",
     "output_type": "stream",
     "text": [
      "coefficients: [-0.17723627]\n",
      "intercept: -0.00192358713181\n",
      "score: 0.153771361548\n"
     ]
    }
   ],
   "source": [
    "thielsan = TheilSenRegressor()\n",
    "thielsan.fit(x,y)\n",
    "print('coefficients: ' + str(hr.coef_))\n",
    "print('intercept: ' + str(hr.intercept_))\n",
    "print('score: ' + str(hr.score(x,y)))"
   ]
  },
  {
   "cell_type": "code",
   "execution_count": 14,
   "metadata": {
    "collapsed": true
   },
   "outputs": [],
   "source": [
    "from sklearn.linear_model import Ridge, Lasso"
   ]
  },
  {
   "cell_type": "code",
   "execution_count": 15,
   "metadata": {},
   "outputs": [
    {
     "name": "stdout",
     "output_type": "stream",
     "text": [
      "coefficients: [-0.17723627]\n",
      "intercept: -0.00192358713181\n",
      "score: 0.153771361548\n"
     ]
    }
   ],
   "source": [
    "ridge = Ridge()\n",
    "ridge.fit(x,y)\n",
    "print('coefficients: ' + str(hr.coef_))\n",
    "print('intercept: ' + str(hr.intercept_))\n",
    "print('score: ' + str(hr.score(x,y)))"
   ]
  },
  {
   "cell_type": "code",
   "execution_count": 16,
   "metadata": {},
   "outputs": [
    {
     "name": "stdout",
     "output_type": "stream",
     "text": [
      "coefficients: [-0.17723627]\n",
      "intercept: -0.00192358713181\n",
      "score: 0.153771361548\n"
     ]
    }
   ],
   "source": [
    "lasso = Lasso()\n",
    "lasso.fit(x,y)\n",
    "print('coefficients: ' + str(hr.coef_))\n",
    "print('intercept: ' + str(hr.intercept_))\n",
    "print('score: ' + str(hr.score(x,y)))"
   ]
  },
  {
   "cell_type": "code",
   "execution_count": 17,
   "metadata": {
    "collapsed": true
   },
   "outputs": [],
   "source": [
    "# write up on https://docs.google.com/document/d/1qS6fpjDe_RJt9c_Hi20bqdoK7jmy24ozCyJZPHmPHwc/edit?usp=sharing"
   ]
  },
  {
   "cell_type": "code",
   "execution_count": 18,
   "metadata": {},
   "outputs": [
    {
     "data": {
      "text/plain": [
       "count    168.000000\n",
       "mean       2.217381\n",
       "std        0.468426\n",
       "min        1.060000\n",
       "25%        1.957500\n",
       "50%        2.295000\n",
       "75%        2.582500\n",
       "max        3.250000\n",
       "Name: AveragePrice, dtype: float64"
      ]
     },
     "execution_count": 18,
     "metadata": {},
     "output_type": "execute_result"
    }
   ],
   "source": [
    "df.AveragePrice.describe()"
   ]
  },
  {
   "cell_type": "code",
   "execution_count": 19,
   "metadata": {},
   "outputs": [
    {
     "data": {
      "text/plain": [
       "count      168.000000\n",
       "mean     22400.625655\n",
       "std       7442.584349\n",
       "min       8311.120000\n",
       "25%      17702.892500\n",
       "50%      21317.190000\n",
       "75%      25494.775000\n",
       "max      57802.020000\n",
       "Name: TotalVolume, dtype: float64"
      ]
     },
     "execution_count": 19,
     "metadata": {},
     "output_type": "execute_result"
    }
   ],
   "source": [
    "df.TotalVolume.describe()"
   ]
  },
  {
   "cell_type": "code",
   "execution_count": 21,
   "metadata": {},
   "outputs": [
    {
     "data": {
      "text/plain": [
       "count    168.000000\n",
       "mean      -0.024254\n",
       "std        0.258683\n",
       "min       -1.477215\n",
       "25%       -0.094727\n",
       "50%       -0.000787\n",
       "75%        0.093168\n",
       "max        0.530348\n",
       "Name: VolumePctChg, dtype: float64"
      ]
     },
     "execution_count": 21,
     "metadata": {},
     "output_type": "execute_result"
    }
   ],
   "source": [
    "df.VolumePctChg.describe()"
   ]
  },
  {
   "cell_type": "code",
   "execution_count": 22,
   "metadata": {},
   "outputs": [
    {
     "data": {
      "text/plain": [
       "count    168.000000\n",
       "mean      -0.009953\n",
       "std        0.162202\n",
       "min       -0.742424\n",
       "25%       -0.021181\n",
       "50%        0.000000\n",
       "75%        0.026059\n",
       "max        0.418502\n",
       "Name: PricePctChg, dtype: float64"
      ]
     },
     "execution_count": 22,
     "metadata": {},
     "output_type": "execute_result"
    }
   ],
   "source": [
    "df.PricePctChg.describe()"
   ]
  },
  {
   "cell_type": "code",
   "execution_count": null,
   "metadata": {
    "collapsed": true
   },
   "outputs": [],
   "source": []
  }
 ],
 "metadata": {
  "kernelspec": {
   "display_name": "Python 3",
   "language": "python",
   "name": "python3"
  },
  "language_info": {
   "codemirror_mode": {
    "name": "ipython",
    "version": 3
   },
   "file_extension": ".py",
   "mimetype": "text/x-python",
   "name": "python",
   "nbconvert_exporter": "python",
   "pygments_lexer": "ipython3",
   "version": "3.6.3"
  }
 },
 "nbformat": 4,
 "nbformat_minor": 2
}
